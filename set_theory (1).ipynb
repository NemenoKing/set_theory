{
 "cells": [
  {
   "cell_type": "markdown",
   "id": "ad916066",
   "metadata": {},
   "source": [
    "# (1. PROVING IDENTITIES)\n",
    "Use LaTex Programming to show solutions\n",
    "\n",
    "Given: A and B are sets, $\\exists$ x such that (x $\\in$ A $\\land$ x $\\in$ B)\n",
    "\n",
    "Show that:\n",
    "\n",
    "\n",
    "\n",
    "Given: \\( A \\) and \\( B \\) are sets, \\( $\\exists$ x \\) such that (\\( x $\\in$ A \\land x $\\in$ B \\)).\n",
    "\n",
    "To show: \\( A $\\setminus$ B = A $\\cap$ $\\overline$ {B} \\).\n",
    "\n",
    "\\textbf{Proof:}\n",
    "Let \\( x \\) be an element that belongs to both sets \\( A \\) and \\( B \\). This means that \\( x $\\in$ A \\) and \\( x $\\in$ B \\). \n",
    "\n",
    "For the left-hand side (\\( A $\\setminus$ B \\)):\n",
    "\\( A $\\setminus$ B \\) includes all elements that are in \\( A \\) but not in \\( B \\). Since \\( x $\\in$ A \\) and \\( x $\\in$ B \\), \\( x \\) will not be in \\( A \\setminus B \\). \n",
    "\n",
    "For the right-hand side (\\( A \\cap $\\overline${B} \\)):\n",
    "\\( $\\overline${B} \\) represents the complement of set \\( B \\), which includes all elements that are not in \\( B \\). Therefore, \\( $\\overline${B} \\) includes all elements other than \\( x \\), which means that \\( x \\) will not be in \\( $\\overline${B} \\) as well. Thus, \\( A $\\cap$ $\\overline${B} \\) will also not include \\( x \\).\n",
    "\n",
    "Since both sides of the equation (\\( A $\\setminus$ B \\) and \\( A $\\cap$ $\\overline${B} \\)) do not contain \\( x \\), they are equal.\n",
    "\n",
    "Hence, \\( A $\\setminus$ B = A $\\cap$ $\\overline${B} \\), as desired.\n",
    "\n",
    "\\end{document}\n"
   ]
  },
  {
   "cell_type": "markdown",
   "id": "fe820c38",
   "metadata": {},
   "source": [
    "# (2. SETS AND SUBSETS)\n",
    "\n",
    "### Use Latex Programming to show your solutions\r\n",
    "## •If A = \\{2, 3, 4, 5\\}, and B = \\{ x ∈ ℕ | x is even }.\r\n",
    "\r\n",
    "## Is \\(A \\subset B\\)? Show a proof.\r\n",
    "\r\n",
    "\\documentclass{article}\r\n",
    "\\usepackage{amssymb}\r\n",
    "\r\n",
    "\\begin{documentWe need to show that every element in $A$ is also in $B$.\r\n",
    "\r\n",
    "$$ A = \\{2, 3, 4, 5\\} $$\r\n",
    "\r\n",
    "$$ B = \\{x \\in \\mathbb{N} \\mid x \\text{ is even}\\} = \\{2, 4, 6, 8, \\ldots\\} $$\r\n",
    "\r\n",
    "Since every element in $A$ is also in $B$, we can conclude that $A \\subseteq B$.\r\n",
    "ubseteq B$.\r\n",
    "\r\n",
    "\\end{document}"
   ]
  },
  {
   "cell_type": "markdown",
   "id": "19c97956-cba2-4eeb-a58d-16ece1e06975",
   "metadata": {},
   "source": [
    "# Proof 2\r\n",
    "We want to find a set $X$ that satisfies the following conditions:\r\n",
    "\r\n",
    "1. $X$ and $B$ are disjoint: $X \\cap B = \\emptyset$.\r\n",
    "2. $X$ is a subset of $D$ but not a subset of $B$: $X \\subseteq D$ and $X \\not\\subseteq B$.\r\n",
    "3. $X$ is a subset of $A$ but not a subset of $C$: $X \\subseteq A$ and $X \\not\\subseteq C$.\r\n",
    "\r\n",
    "Let's construct $X$ based on these conditions:\r\n",
    "\r\n",
    "1. To ensure $X$ and $B$ are disjoint, we can select elements from $A$ that are not in $B$. So, $X = \\{3, 5\\}$.\r\n",
    "\r\n",
    "$$ X = \\{3, 5\\} $$\r\n",
    "\r\n",
    "2. $X$ is a subset of $D$ but not a subset of $B$. Since $X = \\{3, 5\\}$ and $D = \\{3, 4, 5\\}$, it satisfies this condition.\r\n",
    "\r\n",
    "$$ X \\subseteq D \\quad \\text{and} \\quad X \\not\\subseteq B $$\r\n",
    "\r\n",
    "3. $X$ is a subset of $A$ but not a subset of $C$. Since $X = \\{3, 5\\}$ and $A = \\{2, 3, 4, 5\\}$, it satisfies this condition.\r\n",
    "\r\n",
    "$$ X \\subseteq A \\quad \\text{and} \\quad X \\not\\subseteq C $$"
   ]
  },
  {
   "cell_type": "markdown",
   "id": "add6cc62",
   "metadata": {},
   "source": [
    "# (3. SET OPERATIONS)\n",
    "Given:\n",
    "\n",
    " **U** = {1,2,3,4,5}\n",
    " \n",
    " **A** = {1,2,3,4,5}\n",
    " \n",
    " **B** = {4,5,6,7}\n",
    " \n",
    " **C** = {5,6,7,8,9}\n",
    " \n",
    " **D** = {1,3,5,7,9}\n",
    " \n",
    " **E** = {2,4,6,8}\n",
    " \n",
    " **F** = {1,5,9}\n",
    " \n",
    " # Manual Solutions\n",
    " \n",
    " \\documentclass{article}\n",
    "\\usepackage{amsmath}\n",
    "\\begin{document}\n",
    "\n",
    "Given:\n",
    "\n",
    " U = {1,2,3,4,5}\n",
    " \n",
    " A = {1,2,3,4,5}\n",
    " \n",
    " B = {4,5,6,7}\n",
    " \n",
    " C = {5,6,7,8,9}\n",
    " \n",
    " D = {1,3,5,7,9}\n",
    " \n",
    " E = {2,4,6,8}\n",
    " \n",
    " F = {1,5,9}\n",
    " \n",
    " \\vspace{1 cm}\n",
    " \n",
    " Solution:\n",
    "\n",
    "1. C $\\oplus$ D (Symmetric Difference)\n",
    " \n",
    " Let C and D be sets. The set Symmetric Difference of set C and D is\n",
    " \n",
    " C $\\oplus$ D = (C $\\setminus$ D) $\\cup$ (D $\\setminus$ C)\n",
    " \n",
    " If C = {5,6,7,8,9} and D = \\{1,3,5,7,9\\}\n",
    " \n",
    " Then C $\\setminus$ D = \\{6,8\\}   and D $\\setminus$ C = \\{1,3,\\}\n",
    " \n",
    " C $\\oplus$ D = \\{1,3,6,8\\}\n",
    " \n",
    "\\vspace{1 cm}\n",
    "\n",
    " 2. A$\\setminus$B (Set Difference)\n",
    "\n",
    " Let A and B be sets. The set difference of A and B is \n",
    "\n",
    "$\\lvert$ A-B$\\rvert$ = $\\lvert$A$\\rvert$ - $\\lvert$A$\\cap$B$\\rvert$\n",
    "\n",
    "If A = \\{1,2,3,4,5\\}\n",
    "\n",
    "And B = \\{4,5,6,7\\}\n",
    "\n",
    "Then A$\\setminus$B = \\{1,2,3\\}\n",
    "\n",
    "\\vspace{1 cm}\n",
    "\n",
    "3. B$\\setminus$A (Set Difference)\n",
    "\n",
    " Let B and A be sets. The set difference of B and A is \n",
    "\n",
    "$\\lvert$ B-A$\\rvert$ = $\\lvert$B$\\rvert$ - $\\lvert$B$\\cap$A$\\rvert$\n",
    "\n",
    " If B = \\{4,5,6,7\\}\n",
    " \n",
    " And A = \\{1,2,3,4,5\\}\n",
    " \n",
    " Then B$\\setminus$A = \\{6,7\\}\n",
    " \n",
    " \\vspace{1cm}\n",
    "\n",
    " 4.E $\\oplus$ F  (Symmetric Difference)\n",
    " \n",
    " Let E and F be sets. The set Symmetric Difference of set E and F is\n",
    "\n",
    "  E $\\oplus$ F = (E $\\setminus$ F) $\\cup$ (F $\\setminus$ E)\n",
    " \n",
    "  If E = {2,4,6,8} and F = \\{1,5,9\\}\n",
    "\n",
    "  Then E $\\setminus$ F = \\{1,2,4,5,6,8,9\n",
    "\\}   \n",
    "  \n",
    "\\end{document}\n",
    " "
   ]
  },
  {
   "cell_type": "markdown",
   "id": "c2cffeb2",
   "metadata": {},
   "source": [
    "# PYTHONIC SOLUTIONS\n",
    " 1. C⊕D **(Set Symmetric Difference)**\n"
   ]
  },
  {
   "cell_type": "code",
   "execution_count": 2,
   "id": "99c5f1cb",
   "metadata": {},
   "outputs": [
    {
     "name": "stdout",
     "output_type": "stream",
     "text": [
      "CΔD = {1, 3, 6, 8}\n"
     ]
    }
   ],
   "source": [
    "C = {5,6,7,8,9}\n",
    "D = {1,3,5,7,9}\n",
    "\n",
    "print ('CΔD =',C^D)"
   ]
  },
  {
   "cell_type": "markdown",
   "id": "b06ad5cc",
   "metadata": {},
   "source": [
    " 2. A \\ B **(Set Difference)**"
   ]
  },
  {
   "cell_type": "code",
   "execution_count": 39,
   "id": "479396de",
   "metadata": {},
   "outputs": [
    {
     "name": "stdout",
     "output_type": "stream",
     "text": [
      "A-B = {1, 2, 3}\n"
     ]
    }
   ],
   "source": [
    "A = {1,2,3,4,5}\n",
    "B = {4,5,6,7}\n",
    "\n",
    "print('A-B =', A - B)"
   ]
  },
  {
   "cell_type": "markdown",
   "id": "d1074db2",
   "metadata": {},
   "source": [
    " 3. B \\ A **(Set Difference)**"
   ]
  },
  {
   "cell_type": "code",
   "execution_count": 45,
   "id": "0d3e294d",
   "metadata": {},
   "outputs": [
    {
     "name": "stdout",
     "output_type": "stream",
     "text": [
      "B-A = {6, 7}\n"
     ]
    }
   ],
   "source": [
    "B = {4,5,6,7}\n",
    "A = {1,2,3,4,5}\n",
    "\n",
    "print ('B-A =',B - A)"
   ]
  },
  {
   "cell_type": "markdown",
   "id": "e3e2cd7d",
   "metadata": {},
   "source": [
    " 4. E ⊕ F **(Set Symmetric Difference)**"
   ]
  },
  {
   "cell_type": "code",
   "execution_count": 46,
   "id": "eda9caec",
   "metadata": {},
   "outputs": [
    {
     "name": "stdout",
     "output_type": "stream",
     "text": [
      "EΔF= {1, 2, 4, 5, 6, 8, 9}\n"
     ]
    }
   ],
   "source": [
    "E = {2,4,6,8}\n",
    "F = {1,5,9}\n",
    "\n",
    "print ('EΔF=',E^F)"
   ]
  },
  {
   "cell_type": "markdown",
   "id": "ff3956f0",
   "metadata": {},
   "source": [
    "# (4. FINITE SETS AND THE  COUNTING PRINCIPLES)\n"
   ]
  },
  {
   "cell_type": "code",
   "execution_count": 37,
   "id": "fa4b84a1",
   "metadata": {},
   "outputs": [
    {
     "data": {
      "image/png": "[encoded data removed]",
      "text/plain": [
       "<Figure size 640x480 with 1 Axes>"
      ]
     },
     "metadata": {},
     "output_type": "display_data"
    },
    {
     "name": "stdout",
     "output_type": "stream",
     "text": [
      "Number of people who read at least one magazine: 108\n",
      "Number of people who read exactly one magazine: 56\n"
     ]
    }
   ],
   "source": [
    "import matplotlib.pyplot as plt\n",
    "from matplotlib_venn import venn3\n",
    "\n",
    "# Given information\n",
    "total_people = 120\n",
    "newsweek = 65\n",
    "times = 45\n",
    "fortune = 42\n",
    "newsweek_and_times = 20\n",
    "newsweek_and_fortune = 25\n",
    "times_and_fortune = 15\n",
    "all_three = 8\n",
    "\n",
    "# Calculate the number of people who read exactly one magazine\n",
    "exactly_one_magazine = (newsweek - newsweek_and_times - newsweek_and_fortune + all_three) + \\\n",
    "                       (times - newsweek_and_times - times_and_fortune + all_three) + \\\n",
    "                       (fortune - newsweek_and_fortune - times_and_fortune + all_three)\n",
    "\n",
    "# Calculate the number of people who read at least one of the three magazines\n",
    "at_least_one_magazine = newsweek + times + fortune - \\\n",
    "                        (newsweek_and_times + newsweek_and_fortune + times_and_fortune) + \\\n",
    "                        2 * all_three\n",
    "\n",
    "# Draw the Venn diagram\n",
    "venn = venn3(subsets=(newsweek - newsweek_and_times - newsweek_and_fortune + all_three,\n",
    "                      times - newsweek_and_times - times_and_fortune + all_three,\n",
    "                      newsweek_and_times - all_three,\n",
    "                      fortune - newsweek_and_fortune - times_and_fortune + all_three,\n",
    "                      newsweek_and_fortune - all_three,\n",
    "                      times_and_fortune - all_three,\n",
    "                      all_three),\n",
    "             set_labels=('Newsweek', 'Times', 'Fortune'))\n",
    "\n",
    "# Display the diagram\n",
    "plt.title(\"Venn Diagram of Magazine Readers\")\n",
    "plt.show()\n",
    "\n",
    "# Print the results\n",
    "print(\"Number of people who read at least one magazine:\", at_least_one_magazine)\n",
    "print(\"Number of people who read exactly one magazine:\", exactly_one_magazine)\n"
   ]
  },
  {
   "cell_type": "code",
   "execution_count": 38,
   "id": "26d4ef80",
   "metadata": {},
   "outputs": [
    {
     "data": {
      "image/png": "[encoded data removed]",
      "text/plain": [
       "<Figure size 640x480 with 1 Axes>"
      ]
     },
     "metadata": {},
     "output_type": "display_data"
    },
    {
     "name": "stdout",
     "output_type": "stream",
     "text": [
      "Number of cars with W only: 5\n",
      "Number of cars with A only: 4\n",
      "Number of cars with R only: 2\n",
      "Number of cars with both R and W but not A: 1\n",
      "Number of cars with both A and R but not W: 6\n",
      "Number of cars with only one of the options: 11\n",
      "Number of cars with at least one option: 23\n",
      "Number of cars with none of the Options: 2\n"
     ]
    }
   ],
   "source": [
    "from matplotlib_venn import venn3\n",
    "import matplotlib.pyplot as plt\n",
    "\n",
    "# Given data\n",
    "total_cars = 25\n",
    "cars_with_a = 15\n",
    "cars_with_r = 12\n",
    "cars_with_w = 11\n",
    "cars_with_a_and_w = 5\n",
    "cars_with_a_and_r = 9\n",
    "cars_with_r_and_w = 4\n",
    "cars_with_all_options = 3\n",
    "\n",
    "# Calculations\n",
    "cars_with_a_only = cars_with_a - cars_with_a_and_r - cars_with_a_and_w + cars_with_all_options\n",
    "cars_with_r_only = cars_with_r - cars_with_a_and_r - cars_with_r_and_w + cars_with_all_options\n",
    "cars_with_w_only = cars_with_w - cars_with_a_and_w - cars_with_r_and_w + cars_with_all_options\n",
    "cars_with_r_and_w_but_not_a = cars_with_r_and_w - cars_with_all_options\n",
    "cars_with_a_and_r_but_not_w = cars_with_a_and_r - cars_with_all_options\n",
    "cars_with_one_option = cars_with_a_only + cars_with_r_only + cars_with_w_only\n",
    "cars_with_at_least_one_option = (\n",
    "    cars_with_a + cars_with_r + cars_with_w\n",
    "    - cars_with_a_and_r - cars_with_a_and_w - cars_with_r_and_w\n",
    "    + cars_with_all_options\n",
    ")\n",
    "cars_with_none_options = total_cars - cars_with_at_least_one_option\n",
    "\n",
    "# Venn Diagram\n",
    "venn_labels = {\n",
    "    \"100\": cars_with_a_only,\n",
    "    \"010\": cars_with_r_only,\n",
    "    \"001\": cars_with_w_only,\n",
    "    \"110\": cars_with_a_and_r_but_not_w,\n",
    "    \"101\": cars_with_r_and_w_but_not_a,\n",
    "    \"011\": cars_with_r_and_w_but_not_a,\n",
    "    \"111\": cars_with_all_options\n",
    "}\n",
    "\n",
    "venn = venn3(subsets=venn_labels, set_labels=('A', 'R', 'W'))\n",
    "plt.title(\"Venn Diagram of Car Options\")\n",
    "plt.show()\n",
    "\n",
    "# Print results\n",
    "print(\"Number of cars with W only:\", cars_with_w_only)\n",
    "print(\"Number of cars with A only:\", cars_with_a_only)\n",
    "print(\"Number of cars with R only:\", cars_with_r_only)\n",
    "print(\"Number of cars with both R and W but not A:\", cars_with_r_and_w_but_not_a)\n",
    "print(\"Number of cars with both A and R but not W:\", cars_with_a_and_r_but_not_w)\n",
    "print(\"Number of cars with only one of the options:\", cars_with_one_option)\n",
    "print(\"Number of cars with at least one option:\", cars_with_at_least_one_option)\n",
    "print(\"Number of cars with none of the Options:\", cars_with_none_options)"
   ]
  },
  {
   "cell_type": "markdown",
   "id": "e9e153d0",
   "metadata": {},
   "source": []
  },
  {
   "cell_type": "code",
   "execution_count": null,
   "id": "9a206188",
   "metadata": {},
   "outputs": [],
   "source": []
  }
 ],
 "metadata": {
  "kernelspec": {
   "display_name": "Python 3 (ipykernel)",
   "language": "python",
   "name": "python3"
  },
  "language_info": {
   "codemirror_mode": {
    "name": "ipython",
    "version": 3
   },
   "file_extension": ".py",
   "mimetype": "text/x-python",
   "name": "python",
   "nbconvert_exporter": "python",
   "pygments_lexer": "ipython3",
   "version": "3.11.4"
  }
 },
 "nbformat": 4,
 "nbformat_minor": 5
}
